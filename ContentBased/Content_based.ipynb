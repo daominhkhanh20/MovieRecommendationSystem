{
 "cells": [
  {
   "cell_type": "markdown",
   "metadata": {},
   "source": [
    "# Content based\n",
    "The Content-Based Recommender relies on the similarity of the items being recommended. The basic idea is that if you like an item, then you will also like a “similar” item. It generally works well when it’s easy to determine the context/properties of each item."
   ]
  },
  {
   "cell_type": "markdown",
   "metadata": {},
   "source": [
    "# Code from scratch "
   ]
  },
  {
   "cell_type": "code",
   "execution_count": null,
   "metadata": {},
   "outputs": [],
   "source": [
    "import pandas as pd\n",
    "import numpy as np\n",
    "import seaborn as sns\n",
    "from matplotlib import pyplot as plt\n",
    "import sys"
   ]
  },
  {
   "cell_type": "code",
   "execution_count": null,
   "metadata": {},
   "outputs": [],
   "source": [
    "movies=pd.read_csv('../Data/movies.csv')"
   ]
  },
  {
   "cell_type": "code",
   "execution_count": null,
   "metadata": {},
   "outputs": [],
   "source": [
    "movies"
   ]
  },
  {
   "cell_type": "code",
   "execution_count": null,
   "metadata": {},
   "outputs": [],
   "source": [
    "list_genres=set()\n",
    "for i in movies['genres']:\n",
    "    list_genres=list_genres.union(set(i.split('|')))\n",
    "list_genres=list(list_genres)"
   ]
  },
  {
   "cell_type": "markdown",
   "metadata": {},
   "source": [
    "# Map text to int"
   ]
  },
  {
   "cell_type": "code",
   "execution_count": null,
   "metadata": {},
   "outputs": [],
   "source": [
    "for genre in list_genres:\n",
    "    temp=[]\n",
    "    for i in range(len(movies)):\n",
    "        if str(genre) in str(movies['genres'][i]):\n",
    "            temp.append(1)\n",
    "        else:\n",
    "            temp.append(0)\n",
    "    movies[genre]=temp"
   ]
  },
  {
   "cell_type": "code",
   "execution_count": null,
   "metadata": {},
   "outputs": [],
   "source": [
    "movies"
   ]
  },
  {
   "cell_type": "markdown",
   "metadata": {},
   "source": [
    "# Calculate document frequency"
   ]
  },
  {
   "cell_type": "code",
   "execution_count": null,
   "metadata": {},
   "outputs": [],
   "source": [
    "df=dict.fromkeys(list_genres,0)\n",
    "for genre in list_genres:\n",
    "    df[genre]=sum(movies[genre])"
   ]
  },
  {
   "cell_type": "code",
   "execution_count": null,
   "metadata": {},
   "outputs": [],
   "source": [
    "plt.figure(figsize=(10,5))\n",
    "plt.bar(df.keys(),df.values())\n",
    "plt.xticks(rotation=90)"
   ]
  },
  {
   "cell_type": "code",
   "execution_count": null,
   "metadata": {},
   "outputs": [],
   "source": [
    "movie_arr=np.array(movies)"
   ]
  },
  {
   "cell_type": "markdown",
   "metadata": {},
   "source": [
    "# Calculate TF-IDF\n",
    "<img src=\"tf.jpeg\">"
   ]
  },
  {
   "cell_type": "code",
   "execution_count": null,
   "metadata": {},
   "outputs": [],
   "source": [
    "import math\n",
    "N=len(movies)\n",
    "count_genres=len(list_genres)\n",
    "for i in range(len(movies)):\n",
    "    for genre in list_genres:\n",
    "        if movies.loc[i,genre]!=0:\n",
    "            movies.loc[i,genre]=float(1.0/count_genres*math.log10(N*1.0/(df[genre]+1)))"
   ]
  },
  {
   "cell_type": "code",
   "execution_count": null,
   "metadata": {},
   "outputs": [],
   "source": [
    "movies"
   ]
  },
  {
   "cell_type": "markdown",
   "metadata": {},
   "source": [
    "# Calculate cosin similarity\n",
    "<img src=\"cosin.png\">\n",
    "Sentence 2 is more likely to be using Term 2 than using Term 1. Vice-versa for Sentence 1. The method of calculating this relative measure is calculated by taking the cosine of the angle between the sentences and the terms. "
   ]
  },
  {
   "cell_type": "code",
   "execution_count": null,
   "metadata": {},
   "outputs": [],
   "source": [
    "indices = pd.Series(movies.index, index=movies['title'])\n",
    "titles=movies['title']\n",
    "movie_vector=np.array(movies)[:,4:]"
   ]
  },
  {
   "cell_type": "code",
   "execution_count": null,
   "metadata": {},
   "outputs": [],
   "source": [
    "def get_value(i,vector):\n",
    "    vec1=movie_vector[i]\n",
    "    a= np.dot(vec1,vector)*1.0/(np.linalg.norm(vec1)*np.linalg.norm(vector))\n",
    "    return a\n",
    "\n",
    "def get_20_nearest(vector):\n",
    "    cosin_sim={}\n",
    "    for i in range(len(movies)):\n",
    "        cosin_sim[i]=get_value(i,vector)\n",
    "    sorted_order=sorted(cosin_sim.items(),key=lambda x: x[1],reverse=True)\n",
    "    return sorted_order[1:20]"
   ]
  },
  {
   "cell_type": "code",
   "execution_count": null,
   "metadata": {},
   "outputs": [],
   "source": [
    "def genre_recommendation(movie_name):\n",
    "    index=indices[movie_name]\n",
    "    vector=np.array(movies.loc[index])[4:]\n",
    "    pair=get_20_nearest(vector)\n",
    "    index_list=[i[0] for i in pair]\n",
    "    return titles.iloc[index_list]"
   ]
  },
  {
   "cell_type": "code",
   "execution_count": null,
   "metadata": {},
   "outputs": [],
   "source": [
    "genre_recommendation('Good Will Hunting (1997)')"
   ]
  },
  {
   "cell_type": "code",
   "execution_count": null,
   "metadata": {},
   "outputs": [],
   "source": [
    "genre_recommendation('Toy Story (1995)')"
   ]
  },
  {
   "cell_type": "markdown",
   "metadata": {},
   "source": [
    "# Using library"
   ]
  },
  {
   "cell_type": "code",
   "execution_count": null,
   "metadata": {},
   "outputs": [],
   "source": [
    "movies['genres']=movies['genres'].str.split('|')\n",
    "movies['genres']=movies['genres'].fillna(\"\").astype('str')"
   ]
  },
  {
   "cell_type": "code",
   "execution_count": null,
   "metadata": {},
   "outputs": [],
   "source": [
    "from sklearn.feature_extraction.text import TfidfVectorizer"
   ]
  },
  {
   "cell_type": "code",
   "execution_count": null,
   "metadata": {},
   "outputs": [],
   "source": [
    "tf=TfidfVectorizer(analyzer='word',ngram_range=(1,1),\n",
    "                  min_df=0,stop_words='english')\n",
    "tfidf_matrix=tf.fit_transform(movies['genres'])\n",
    "tfidf_matrix.shape"
   ]
  },
  {
   "cell_type": "code",
   "execution_count": null,
   "metadata": {},
   "outputs": [],
   "source": [
    "from sklearn.metrics.pairwise import linear_kernel\n",
    "cosine_sim=linear_kernel(tfidf_matrix,tfidf_matrix)"
   ]
  },
  {
   "cell_type": "code",
   "execution_count": null,
   "metadata": {},
   "outputs": [],
   "source": [
    "titles=movies['title']\n",
    "indices=pd.Series(movies.index,index=movies['title'])"
   ]
  },
  {
   "cell_type": "code",
   "execution_count": null,
   "metadata": {},
   "outputs": [],
   "source": [
    "def get_movie_recommendation(movie_name):\n",
    "    index=indices[movie_name]\n",
    "    similar_scores=list(enumerate(cosine_sim[index]))\n",
    "    sim_scores=sorted(similar_scores,key=lambda x:x[1],reverse=True)\n",
    "    list_result=sim_scores[1:20]\n",
    "    movie_index=[i[0] for i in list_result]\n",
    "    return titles.iloc[movie_index]"
   ]
  },
  {
   "cell_type": "code",
   "execution_count": 24,
   "metadata": {},
   "outputs": [
    {
     "data": {
      "text/plain": [
       "25                                       Othello (1995)\n",
       "26                                  Now and Then (1995)\n",
       "29    Shanghai Triad (Yao a yao yao dao waipo qiao) ...\n",
       "30                               Dangerous Minds (1995)\n",
       "35                              Dead Man Walking (1995)\n",
       "39                      Cry, the Beloved Country (1995)\n",
       "42                                   Restoration (1995)\n",
       "52                                      Lamerica (1994)\n",
       "54                                       Georgia (1995)\n",
       "56                         Home for the Holidays (1995)\n",
       "61                            Mr. Holland's Opus (1995)\n",
       "66                                      Two Bits (1995)\n",
       "77                           Crossing Guard, The (1995)\n",
       "79         White Balloon, The (Badkonake Sefid ) (1995)\n",
       "81                      Antonia's Line (Antonia) (1995)\n",
       "82      Once Upon a Time... When We Were Colored (1995)\n",
       "89                   Journey of August King, The (1995)\n",
       "92                               Beautiful Girls (1996)\n",
       "95                              Hate (Haine, La) (1995)\n",
       "Name: title, dtype: object"
      ]
     },
     "execution_count": 24,
     "metadata": {},
     "output_type": "execute_result"
    }
   ],
   "source": [
    "get_movie_recommendation('Good Will Hunting (1997)').head(20)"
   ]
  },
  {
   "cell_type": "code",
   "execution_count": null,
   "metadata": {},
   "outputs": [],
   "source": []
  }
 ],
 "metadata": {
  "kernelspec": {
   "display_name": "Python 3",
   "language": "python",
   "name": "python3"
  },
  "language_info": {
   "codemirror_mode": {
    "name": "ipython",
    "version": 3
   },
   "file_extension": ".py",
   "mimetype": "text/x-python",
   "name": "python",
   "nbconvert_exporter": "python",
   "pygments_lexer": "ipython3",
   "version": "3.7.6"
  }
 },
 "nbformat": 4,
 "nbformat_minor": 5
}
